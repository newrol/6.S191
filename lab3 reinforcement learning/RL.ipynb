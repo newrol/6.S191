{
  "nbformat": 4,
  "nbformat_minor": 0,
  "metadata": {
    "colab": {
      "name": "RL.ipynb",
      "provenance": [],
      "collapsed_sections": [
        "jrI6q7RmWQam"
      ],
      "include_colab_link": true
    },
    "kernelspec": {
      "name": "python3",
      "display_name": "Python 3"
    },
    "accelerator": "GPU"
  },
  "cells": [
    {
      "cell_type": "markdown",
      "metadata": {
        "id": "view-in-github",
        "colab_type": "text"
      },
      "source": [
        "<a href=\"https://colab.research.google.com/github/newrol/6.S191/blob/master/lab3%20reinforcement%20learning/RL.ipynb\" target=\"_parent\"><img src=\"https://colab.research.google.com/assets/colab-badge.svg\" alt=\"Open In Colab\"/></a>"
      ]
    },
    {
      "cell_type": "markdown",
      "metadata": {
        "id": "jrI6q7RmWQam",
        "colab_type": "text"
      },
      "source": [
        "<table align=\"center\">\n",
        "  <td align=\"center\"><a target=\"_blank\" href=\"http://introtodeeplearning.com\">\n",
        "        <img src=\"http://introtodeeplearning.com/images/colab/mit.png\" style=\"padding-bottom:5px;\" />\n",
        "      Visit MIT Deep Learning</a></td>\n",
        "  <td align=\"center\"><a target=\"_blank\" href=\"https://colab.research.google.com/github/aamini/introtodeeplearning/blob/master/lab3/RL.ipynb\">\n",
        "        <img src=\"http://introtodeeplearning.com/images/colab/colab.png?v2.0\"  style=\"padding-bottom:5px;\" />Run in Google Colab</a></td>\n",
        "  <td align=\"center\"><a target=\"_blank\" href=\"https://github.com/aamini/introtodeeplearning/blob/master/lab3/RL.ipynb\">\n",
        "        <img src=\"http://introtodeeplearning.com/images/colab/github.png\"  height=\"70px\" style=\"padding-bottom:5px;\"  />View Source on GitHub</a></td>\n",
        "</table>\n",
        "\n",
        "# Copyright Information"
      ]
    },
    {
      "cell_type": "code",
      "metadata": {
        "id": "wkd375upWYok",
        "colab_type": "code",
        "colab": {}
      },
      "source": [
        "# Copyright 2020 MIT 6.S191 Introduction to Deep Learning. All Rights Reserved.\n",
        "# \n",
        "# Licensed under the MIT License. You may not use this file except in compliance\n",
        "# with the License. Use and/or modification of this code outside of 6.S191 must\n",
        "# reference:\n",
        "#\n",
        "# © MIT 6.S191: Introduction to Deep Learning\n",
        "# http://introtodeeplearning.com\n",
        "#"
      ],
      "execution_count": 0,
      "outputs": []
    },
    {
      "cell_type": "markdown",
      "metadata": {
        "id": "WoXYKhfZMHiw",
        "colab_type": "text"
      },
      "source": [
        "# Laboratory 3: Reinforcement Learning\n",
        "\n",
        "Reinforcement learning (RL) is a subset of machine learning which poses learning problems as interactions between agents and environments. It often assumes agents have no prior knowledge of a world, so they must learn to navigate environments by optimizing a reward function. Within an environment, an agent can take certain actions and receive feedback, in the form of positive or negative rewards, with respect to their decision. As such, an agent's feedback loop is somewhat akin to the idea of \"trial and error\", or the manner in which a child might learn to distinguish between \"good\" and \"bad\" actions.\n",
        "\n",
        "In practical terms, our RL agent will interact with the environment by taking an action at each timestep, receiving a corresponding reward, and updating its state according to what it has \"learned\".  \n",
        "\n",
        "![alt text](https://www.kdnuggets.com/images/reinforcement-learning-fig1-700.jpg)\n",
        "\n",
        "While the ultimate goal of reinforcement learning is to teach agents to act in the real, physical world, games provide a convenient proving ground for developing RL algorithms and agents. Games have some properties that make them particularly well suited for RL: \n",
        "\n",
        "1.   In many cases, games have perfectly describable environments. For example, all rules of chess can be formally written and programmed into a chess game simulator;\n",
        "2.   Games are massively parallelizable. Since they do not require running in the real world, simultaneous environments can be run on large data clusters; \n",
        "3.   Simpler scenarios in games enable fast prototyping. This speeds up the development of algorithms that could eventually run in the real-world; and\n",
        "4.   ... Games are fun! \n",
        "\n",
        "In previous labs, we have explored both supervised (with LSTMs, CNNs) and unsupervised / semi-supervised (with VAEs) learning tasks. Reinforcement learning is fundamentally different, in that we are training a deep learning algorithm to govern the actions of our RL agent, that is trying, within its environment, to find the optimal way to achieve a goal. The goal of training an RL agent is to determine the best next step to take to earn the greatest final payoff or return. In this lab, we focus on building a reinforcement learning algorithm to master two different environments with varying complexity. \n",
        "\n",
        "1.   **Cartpole**:   Balance a pole, protruding from a cart, in an upright position by only moving the base left or right. Environment with a low-dimensional observation space.\n",
        "2.   [**Pong**](https://en.wikipedia.org/wiki/Pong): Beat your competitors (whether other AI or humans!) at the game of Pong. Environment with a high-dimensional observation space -- learning directly from raw pixels.\n",
        "\n",
        "Let's get started! First we'll import TensorFlow, the course package, and some dependencies.\n"
      ]
    },
    {
      "cell_type": "code",
      "metadata": {
        "id": "EvdePP-VyVWp",
        "colab_type": "code",
        "colab": {
          "base_uri": "https://localhost:8080/",
          "height": 187
        },
        "outputId": "060f8885-95cb-4bb4-e9af-70829ffd007c"
      },
      "source": [
        "!apt-get install -y xvfb python-opengl x11-utils > /dev/null 2>&1\n",
        "!pip install gym pyvirtualdisplay scikit-video > /dev/null 2>&1\n",
        "\n",
        "%tensorflow_version 2.x\n",
        "import tensorflow as tf\n",
        "\n",
        "import numpy as np\n",
        "import base64, io, time, gym\n",
        "import IPython, functools\n",
        "import matplotlib.pyplot as plt\n",
        "from tqdm import tqdm\n",
        "\n",
        "!pip install mitdeeplearning\n",
        "import mitdeeplearning as mdl"
      ],
      "execution_count": 13,
      "outputs": [
        {
          "output_type": "stream",
          "text": [
            "Requirement already satisfied: mitdeeplearning in /usr/local/lib/python3.6/dist-packages (0.1.2)\n",
            "Requirement already satisfied: regex in /usr/local/lib/python3.6/dist-packages (from mitdeeplearning) (2019.12.20)\n",
            "Requirement already satisfied: gym in /usr/local/lib/python3.6/dist-packages (from mitdeeplearning) (0.17.1)\n",
            "Requirement already satisfied: tqdm in /usr/local/lib/python3.6/dist-packages (from mitdeeplearning) (4.38.0)\n",
            "Requirement already satisfied: numpy in /usr/local/lib/python3.6/dist-packages (from mitdeeplearning) (1.18.2)\n",
            "Requirement already satisfied: cloudpickle<1.4.0,>=1.2.0 in /usr/local/lib/python3.6/dist-packages (from gym->mitdeeplearning) (1.3.0)\n",
            "Requirement already satisfied: pyglet<=1.5.0,>=1.4.0 in /usr/local/lib/python3.6/dist-packages (from gym->mitdeeplearning) (1.5.0)\n",
            "Requirement already satisfied: six in /usr/local/lib/python3.6/dist-packages (from gym->mitdeeplearning) (1.12.0)\n",
            "Requirement already satisfied: scipy in /usr/local/lib/python3.6/dist-packages (from gym->mitdeeplearning) (1.4.1)\n",
            "Requirement already satisfied: future in /usr/local/lib/python3.6/dist-packages (from pyglet<=1.5.0,>=1.4.0->gym->mitdeeplearning) (0.16.0)\n"
          ],
          "name": "stdout"
        }
      ]
    },
    {
      "cell_type": "markdown",
      "metadata": {
        "id": "zmrHSiXKTXTY",
        "colab_type": "text"
      },
      "source": [
        "Before we dive in, let's take a step back and outline our approach, which is generally applicable to reinforcement learning problems in general:\n",
        "\n",
        "1. **Initialize our environment and our agent**: here we will describe the different observations and actions the agent can make in the environemnt.\n",
        "2. **Define our agent's memory**: this will enable the agent to remember its past actions, observations, and rewards.\n",
        "3. **Define a reward function**: describes the reward associated with an action or sequence of actions.\n",
        "4. **Define the learning algorithm**: this will be used to reinforce the agent's good behaviors and discourage bad behaviors.\n"
      ]
    },
    {
      "cell_type": "markdown",
      "metadata": {
        "id": "UT7YL8KBJIIc",
        "colab_type": "text"
      },
      "source": [
        "# Part 1: Cartpole\n",
        "\n",
        "## 3.1 Define the Cartpole environment and agent\n",
        "\n",
        "### Environment \n",
        "\n",
        "In order to model the environment for both the Cartpole and Pong tasks, we'll be using a toolkit developed by OpenAI called [OpenAI Gym](https://gym.openai.com/). It provides several pre-defined environments for training and testing reinforcement learning agents, including those for classic physics control tasks, Atari video games, and robotic simulations. To access the Cartpole environment, we can use `env = gym.make(\"CartPole-v0\")`, which we gained access to when we imported the `gym` package. We can instantiate different [environments](https://gym.openai.com/envs/#classic_control) by passing the enivronment name to the `make` function.\n",
        "\n",
        "One issue we might experience when developing RL algorithms is that many aspects of the learning process are inherently random: initializing game states, changes in the environment, and the agent's actions. As such, it can be helpful to set a initial \"seed\" for the environment to ensure some level of reproducibility. Much like you might use `numpy.random.seed`, we can call the comparable function in gym, `seed`, with our defined environment to ensure the environment's random variables are initialized the same each time."
      ]
    },
    {
      "cell_type": "code",
      "metadata": {
        "id": "quv9SC0iIYFm",
        "colab_type": "code",
        "colab": {
          "base_uri": "https://localhost:8080/",
          "height": 34
        },
        "outputId": "bf98d6a3-ae20-4e1e-ca72-9e6453291d0f"
      },
      "source": [
        "### Instantiate the Cartpole environment ###\n",
        "\n",
        "env = gym.make(\"CartPole-v0\")\n",
        "env.seed(1)"
      ],
      "execution_count": 14,
      "outputs": [
        {
          "output_type": "execute_result",
          "data": {
            "text/plain": [
              "[1]"
            ]
          },
          "metadata": {
            "tags": []
          },
          "execution_count": 14
        }
      ]
    },
    {
      "cell_type": "markdown",
      "metadata": {
        "id": "mhEITUcKK455",
        "colab_type": "text"
      },
      "source": [
        "In Cartpole, a pole is attached by an un-actuated joint to a cart, which moves along a frictionless track. The pole starts upright, and the goal is to prevent it from falling over. The system is controlled by applying a force of +1 or -1 to the cart. A reward of +1 is provided for every timestep that the pole remains upright. The episode ends when the pole is more than 15 degrees from vertical, or the cart moves more than 2.4 units from the center of the track. A visual summary of the cartpole environment is depicted below:\n",
        "\n",
        "<img width=\"400px\" src=\"https://danielpiedrahita.files.wordpress.com/2017/02/cart-pole.png\"></img>\n",
        "\n",
        "Given this setup for the environment and the objective of the game, we can think about: 1) what observations help define the environment's state; 2) what actions the agent can take. \n",
        "\n",
        "First, let's consider the observation space. In this Cartpole environment our observations are:\n",
        "\n",
        "1. Cart position\n",
        "2. Cart velocity\n",
        "3. Pole angle\n",
        "4. Pole rotation rate\n",
        "\n",
        "We can confirm the size of the space by querying the environment's observation space:\n"
      ]
    },
    {
      "cell_type": "code",
      "metadata": {
        "id": "UVJaEcbdIX82",
        "colab_type": "code",
        "colab": {
          "base_uri": "https://localhost:8080/",
          "height": 34
        },
        "outputId": "04851e9b-04c4-4c13-c3ba-46259961f2ba"
      },
      "source": [
        "n_observations = env.observation_space\n",
        "print(\"Environment has observation space =\", n_observations)"
      ],
      "execution_count": 15,
      "outputs": [
        {
          "output_type": "stream",
          "text": [
            "Environment has observation space = Box(4,)\n"
          ],
          "name": "stdout"
        }
      ]
    },
    {
      "cell_type": "markdown",
      "metadata": {
        "id": "ZibGgjrALgPM",
        "colab_type": "text"
      },
      "source": [
        "Second, we consider the action space. At every time step, the agent can move either right or left. Again we can confirm the size of the action space by querying the environment:"
      ]
    },
    {
      "cell_type": "code",
      "metadata": {
        "id": "qc9SIPxBIXrm",
        "colab_type": "code",
        "colab": {
          "base_uri": "https://localhost:8080/",
          "height": 34
        },
        "outputId": "7a55081f-56b5-4e68-93dc-ce448dea5a6a"
      },
      "source": [
        "n_actions = env.action_space.n\n",
        "print(\"Number of possible actions that the agent can choose from =\", n_actions)"
      ],
      "execution_count": 16,
      "outputs": [
        {
          "output_type": "stream",
          "text": [
            "Number of possible actions that the agent can choose from = 2\n"
          ],
          "name": "stdout"
        }
      ]
    },
    {
      "cell_type": "markdown",
      "metadata": {
        "id": "pPfHME8aRKkb",
        "colab_type": "text"
      },
      "source": [
        "### Cartpole agent\n",
        "\n",
        "Now that we have instantiated the environment and understood the dimensionality of the observation and action spaces, we are ready to define our agent. In deep reinforcement learning, a deep neural network defines the agent. This network will take as input an observation of the environment and output the probability of taking each of the possible actions. Since Cartpole is defined by a low-dimensional observation space, a simple feed-forward neural network should work well for our agent. We will define this using the `Sequential` API.\n"
      ]
    },
    {
      "cell_type": "code",
      "metadata": {
        "id": "W-o_XK4oQ4eu",
        "colab_type": "code",
        "colab": {}
      },
      "source": [
        "### Define the Cartpole agent ###\n",
        "\n",
        "# Defines a feed-forward neural network\n",
        "def create_cartpole_model():\n",
        "  model = tf.keras.models.Sequential([\n",
        "      # First Dense layer\n",
        "      tf.keras.layers.Dense(units=32, activation='relu'),\n",
        "\n",
        "      # TODO: Define the last Dense layer, which will provide the network's output.\n",
        "      # Think about the space the agent needs to act in!\n",
        "      \n",
        "      tf.keras.layers.Dense(units=n_actions)\n",
        "  ])\n",
        "  return model\n",
        "\n",
        "cartpole_model = create_cartpole_model()"
      ],
      "execution_count": 0,
      "outputs": []
    },
    {
      "cell_type": "markdown",
      "metadata": {
        "id": "d5D5NSIYS2IW",
        "colab_type": "text"
      },
      "source": [
        "Now that we have defined the core network architecture, we will define an *action function* that executes a forward pass through the network, given a set of observations, and samples from the output. This sampling from the output probabilities will be used to select the next action for the agent. \n",
        "\n",
        "**Critically, this action function is totally general -- we will use this function for both Cartpole and Pong, and it is applicable to other RL tasks, as well!**"
      ]
    },
    {
      "cell_type": "code",
      "metadata": {
        "id": "E_vVZRr8Q4R_",
        "colab_type": "code",
        "colab": {}
      },
      "source": [
        "### Define the agent's action function ###\n",
        "\n",
        "# Function that takes observations as input, executes a forward pass through model, \n",
        "#   and outputs a sampled action.\n",
        "# Arguments:\n",
        "#   model: the network that defines our agent\n",
        "#   observation: observation which is fed as input to the model\n",
        "# Returns:\n",
        "#   action: choice of agent action\n",
        "def choose_action(model, observation):\n",
        "  # add batch dimension to the observation\n",
        "  observation = np.expand_dims(observation, axis=0)\n",
        "\n",
        "  '''TODO: feed the observations through the model to predict the log probabilities of each possible action.'''\n",
        "  logits = model.predict(observation)\n",
        "  \n",
        "  # pass the log probabilities through a softmax to compute true probabilities\n",
        "  prob_weights = tf.nn.softmax(logits).numpy()\n",
        "  '''TODO: randomly sample from the prob_weights to pick an action.\n",
        "  Hint: carefully consider the dimensionality of the input probabilities (vector) and the output action (scalar)'''\n",
        "  action = np.random.choice(n_actions, size=1, p=prob_weights.flatten())[0]\n",
        "\n",
        "  return action"
      ],
      "execution_count": 0,
      "outputs": []
    },
    {
      "cell_type": "markdown",
      "metadata": {
        "id": "_tR9uAWcTnkr",
        "colab_type": "text"
      },
      "source": [
        "## 3.2 Define the agent's memory\n",
        "\n",
        "Now that we have instantiated the environment and defined the agent network architecture and action function, we are ready to move on to the next step in our RL workflow:\n",
        "1. **Initialize our environment and our agent**: here we will describe the different observations and actions the agent can make in the environemnt.\n",
        "2. **Define our agent's memory**: this will enable the agent to remember its past actions, observations, and rewards.\n",
        "3. **Define the learning algorithm**: this will be used to reinforce the agent's good behaviors and discourage bad behaviors.\n",
        "\n",
        "In reinforcement learning, training occurs alongside the agent's acting in the environment; an *episode* refers to a sequence of actions that ends in some terminal state, such as the pole falling down or the cart crashing. The agent will need to remember all of its observations and actions, such that once an episode ends, it can learn to \"reinforce\" the good actions and punish the undesirable actions via training. Our first step is to define a simple memory buffer that contains the agent's observations, actions, and received rewards from a given episode. \n",
        "\n",
        "**Once again, note the modularity of this memory buffer -- it can and will be applied to other RL tasks as well!**"
      ]
    },
    {
      "cell_type": "code",
      "metadata": {
        "id": "8MM6JwXVQ4JG",
        "colab_type": "code",
        "colab": {}
      },
      "source": [
        "### Agent Memory ###\n",
        "\n",
        "class Memory:\n",
        "  def __init__(self): \n",
        "      self.clear()\n",
        "\n",
        "  # Resets/restarts the memory buffer\n",
        "  def clear(self): \n",
        "      self.observations = []\n",
        "      self.actions = []\n",
        "      self.rewards = []\n",
        "\n",
        "  # Add observations, actions, rewards to memory\n",
        "  def add_to_memory(self, new_observation, new_action, new_reward): \n",
        "      self.observations.append(new_observation)\n",
        "      '''TODO: update the list of actions with new action'''\n",
        "      # TODO: your update code here\n",
        "      self.actions.append(new_action)\n",
        "      '''TODO: update the list of rewards with new reward'''\n",
        "      # TODO: your update code here\n",
        "      self.rewards.append(new_reward)  \n",
        "memory = Memory()"
      ],
      "execution_count": 0,
      "outputs": []
    },
    {
      "cell_type": "markdown",
      "metadata": {
        "id": "D4YhtPaUVj5m",
        "colab_type": "text"
      },
      "source": [
        "## 3.3 Reward function\n",
        "\n",
        "We're almost ready to begin the learning algorithm for our agent! The next step is to compute the rewards of our agent as it acts in the environment. Since we (and the agent) is uncertain about if and when the game or task will end (i.e., when the pole will fall), it is useful to emphasize getting rewards **now** rather than later in the future -- this is the idea of discounting. This is a similar concept to discounting money in the case of interest. ecall from lecture, we use reward discount to give more preference at getting rewards now rather than later in the future. The idea of discounting rewards is similar to discounting money in the case of interest.\n",
        "\n",
        "To compute the expected cumulative reward, known as the **return**, at a given timestep in a learning episode, we sum the discounted rewards expected at that time step $t$, within a learning episode, and projecting into the future. We define the return (cumulative reward) at a time step $t$, $R_{t}$ as:\n",
        "\n",
        ">$R_{t}=\\sum_{k=0}^\\infty\\gamma^kr_{t+k}$\n",
        "\n",
        "where  $0 < \\gamma < 1$ is the discount factor and $r_{t}$ is the reward at time step $t$, and the index $k$ increments projection into the future within a single learning episode. Intuitively, you can think of this function as depreciating any rewards received at later time steps, which will force the agent prioritize getting rewards now. Since we can't extend episodes to infinity, in practice the computation will be limited to the number of timesteps in an episode -- after that the reward is assumed to be zero.\n",
        "\n",
        "Take note of the form of this sum -- we'll have to be clever about how we implement this function. Specifically, we'll need to initialize an array of zeros, with length of the number of time steps, and fill it with the real discounted reward values as we loop through the rewards from the episode, which will have been saved in the agents memory. What we ultimately care about is which actions are better relative to other actions taken in that episode -- so, we'll normalize our computed rewards, using the mean and standard deviation of the rewards across the learning episode.\n"
      ]
    },
    {
      "cell_type": "code",
      "metadata": {
        "id": "5_Q2OFYtQ32X",
        "colab_type": "code",
        "colab": {}
      },
      "source": [
        "### Reward function ###\n",
        "\n",
        "# Helper function that normalizes an np.array x\n",
        "def normalize(x):\n",
        "  x -= np.mean(x)\n",
        "  x /= np.std(x)\n",
        "  return x.astype(np.float32)\n",
        "\n",
        "# Compute normalized, discounted, cumulative rewards (i.e., return)\n",
        "# Arguments:\n",
        "#   rewards: reward at timesteps in episode\n",
        "#   gamma: discounting factor\n",
        "# Returns:\n",
        "#   normalized discounted reward\n",
        "def discount_rewards(rewards, gamma=0.95): \n",
        "  discounted_rewards = np.zeros_like(rewards)\n",
        "  R = 0\n",
        "  for t in reversed(range(0, len(rewards))):\n",
        "      # update the total discounted reward\n",
        "      R = R * gamma + rewards[t]\n",
        "      discounted_rewards[t] = R\n",
        "      \n",
        "  return normalize(discounted_rewards)"
      ],
      "execution_count": 0,
      "outputs": []
    },
    {
      "cell_type": "markdown",
      "metadata": {
        "id": "QzbY-mjGYcmt",
        "colab_type": "text"
      },
      "source": [
        "## 3.4 Learning algorithm\n",
        "\n",
        "Now we can start to define the learing algorithm which will be used to reinforce good behaviors of the agent and discourage bad behaviours. In this lab, we will focus on *policy gradient* methods which aim to **maximize** the likelihood of actions that result in large rewards. Equivalently, this means that we want to **minimize** the negative likelihood of these same actions. We achieve this by simply **scaling** the probabilities by their associated rewards -- effectively amplifying the likelihood of actions that resujlt in large rewards.\n",
        "\n",
        "Since the log function is monotonically increasing, this means that minimizing **negative likelihood** is equivalent to minimizing **negative log-likelihood**.  Recall that we can easily compute the negative log-likelihood of a discrete action by evaluting its [softmax cross entropy](https://www.tensorflow.org/api_docs/python/tf/nn/sparse_softmax_cross_entropy_with_logits). Like in supervised learning, we can use stochastic gradient descent methods to achieve the desired minimization. \n",
        "\n",
        "Let's begin by defining the loss function."
      ]
    },
    {
      "cell_type": "code",
      "metadata": {
        "id": "fsgZ3IDCY_Zn",
        "colab_type": "code",
        "colab": {
          "base_uri": "https://localhost:8080/",
          "height": 34
        },
        "outputId": "f49ff60b-4266-40ef-efe2-cff004a3220e"
      },
      "source": [
        "### Loss function ###\n",
        "\n",
        "# Arguments:\n",
        "#   logits: network's predictions for actions to take\n",
        "#   actions: the actions the agent took in an episode\n",
        "#   rewards: the rewards the agent received in an episode\n",
        "# Returns:\n",
        "#   loss\n",
        "def compute_loss(logits, actions, rewards): \n",
        "\n",
        "  '''TODO: complete the function call to compute the negative log probabilities'''\n",
        "  neg_logprob = tf.nn.sparse_softmax_cross_entropy_with_logits(logits=logits, labels=actions)\n",
        "\n",
        "  print(type(rewards))\n",
        "  '''TODO: scale the negative log probability by the rewards'''\n",
        "  loss = tf.reduce_mean(neg_logprob * rewards)\n",
        "\n",
        "  return loss"
      ],
      "execution_count": 51,
      "outputs": [
        {
          "output_type": "stream",
          "text": [
            "ERROR! Session/line number was not unique in database. History logging moved to new session 64\n"
          ],
          "name": "stdout"
        }
      ]
    },
    {
      "cell_type": "markdown",
      "metadata": {
        "id": "Rr5vQ9fqbPpp",
        "colab_type": "text"
      },
      "source": [
        "Now let's use the loss function to define a training step of our learning algorithm:"
      ]
    },
    {
      "cell_type": "code",
      "metadata": {
        "id": "_50ada7nbZ7L",
        "colab_type": "code",
        "colab": {}
      },
      "source": [
        "### Training step (forward and backpropagation) ###\n",
        "\n",
        "def train_step(model, optimizer, observations, actions, discounted_rewards):\n",
        "  with tf.GradientTape() as tape:\n",
        "      # Forward propagate through the agent network\n",
        "      logits = model(observations)\n",
        "\n",
        "      '''TODO: call the compute_loss function to compute the loss'''\n",
        "      loss = compute_loss(logits, actions, discounted_rewards)\n",
        "\n",
        "  '''TODO: run backpropagation to minimize the loss using the tape.gradient method.\n",
        "      Use `model.trainable_variables`'''\n",
        "  grads = tape.gradient(loss, model.trainable_variables)\n",
        "  optimizer.apply_gradients(zip(grads, model.trainable_variables))\n"
      ],
      "execution_count": 0,
      "outputs": []
    },
    {
      "cell_type": "markdown",
      "metadata": {
        "id": "XsjKXh6BcgjR",
        "colab_type": "text"
      },
      "source": [
        "## 3.5 Run cartpole!\n",
        "\n",
        "Having had no prior knowledge of the environment, the agent will begin to learn how to balance the pole on the cart based only on the feedback received from the environment! Having defined how our agent can move, how it takes in new observations, and how it updates its state, we'll see how it gradually learns a policy of actions to optimize balancing the pole as long as possible. To do this, we'll track how the rewards evolve as a function of training -- how should the rewards change as training progresses?"
      ]
    },
    {
      "cell_type": "code",
      "metadata": {
        "id": "XmOzc2rrcn8Q",
        "colab_type": "code",
        "colab": {
          "base_uri": "https://localhost:8080/",
          "height": 643
        },
        "outputId": "1327bf49-e61b-4c1e-beec-c33643f4a15b"
      },
      "source": [
        "### Cartpole training! ###\n",
        "\n",
        "# Learning rate and optimizer\n",
        "learning_rate = 1e-3\n",
        "optimizer = tf.keras.optimizers.Adam(learning_rate)\n",
        "\n",
        "# instantiate cartpole agent\n",
        "cartpole_model = create_cartpole_model()\n",
        "\n",
        "# to track our progress\n",
        "smoothed_reward = mdl.util.LossHistory(smoothing_factor=0.9)\n",
        "plotter = mdl.util.PeriodicPlotter(sec=2, xlabel='Iterations', ylabel='Rewards')\n",
        "\n",
        "if hasattr(tqdm, '_instances'): tqdm._instances.clear() # clear if it exists\n",
        "for i_episode in range(500):\n",
        "\n",
        "  plotter.plot(smoothed_reward.get())\n",
        "\n",
        "  # Restart the environment\n",
        "  observation = env.reset()\n",
        "  memory.clear()\n",
        "\n",
        "  while True:\n",
        "      # using our observation, choose an action and take it in the environment\n",
        "      action = choose_action(cartpole_model, observation)\n",
        "      next_observation, reward, done, info = env.step(action)\n",
        "      # add to memory\n",
        "      memory.add_to_memory(observation, action, reward)\n",
        "      \n",
        "      # is the episode over? did you crash or do so well that you're done?\n",
        "      if done:\n",
        "          # determine total reward and keep a record of this\n",
        "          total_reward = sum(memory.rewards)\n",
        "          smoothed_reward.append(total_reward)\n",
        "          \n",
        "          # initiate training - remember we don't know anything about how the \n",
        "          #   agent is doing until it has crashed!\n",
        "          train_step(cartpole_model, optimizer, \n",
        "                     observations=np.vstack(memory.observations),\n",
        "                     actions=np.array(memory.actions),\n",
        "                     discounted_rewards = discount_rewards(memory.rewards))\n",
        "          \n",
        "          # reset the memory\n",
        "          memory.clear()\n",
        "          break\n",
        "      # update our observatons\n",
        "      observation = next_observation"
      ],
      "execution_count": 55,
      "outputs": [
        {
          "output_type": "display_data",
          "data": {
            "image/png": "[encoded data removed]",
            "text/plain": [
              "<Figure size 432x288 with 1 Axes>"
            ]
          },
          "metadata": {
            "tags": []
          }
        },
        {
          "output_type": "stream",
          "text": [
            "dentro\n",
            "dentro1\n",
            "dentro1\n",
            "<class 'tensorflow.python.framework.ops.EagerTensor'>\n",
            "dentro1\n",
            "dentro\n"
          ],
          "name": "stdout"
        },
        {
          "output_type": "display_data",
          "data": {
            "image/png": "[encoded data removed]",
            "text/plain": [
              "<Figure size 432x288 with 1 Axes>"
            ]
          },
          "metadata": {
            "tags": []
          }
        }
      ]
    },
    {
      "cell_type": "markdown",
      "metadata": {
        "id": "mkcUtGF1VE-K",
        "colab_type": "text"
      },
      "source": [
        "To get a sense of how our agent did, we can save a video of the trained model working on balancing the pole. Realize that this is a brand new environment that the agent has not seen before!\n",
        "\n",
        "Let's display the saved video to watch how our agent did!\n"
      ]
    },
    {
      "cell_type": "code",
      "metadata": {
        "id": "PAYBkv6Zbk0J",
        "colab_type": "code",
        "colab": {
          "base_uri": "https://localhost:8080/",
          "height": 438
        },
        "outputId": "7e81e510-4f36-40b5-b323-cabaa135d7d0"
      },
      "source": [
        "saved_cartpole = mdl.lab3.save_video_of_model(cartpole_model, \"CartPole-v0\")\n",
        "mdl.lab3.play_video(saved_cartpole)"
      ],
      "execution_count": 56,
      "outputs": [
        {
          "output_type": "stream",
          "text": [
            "Successfully saved 200 frames into CartPole-v0.mp4!\n"
          ],
          "name": "stdout"
        },
        {
          "output_type": "execute_result",
          "data": {
            "text/html": [
              "\n",
              "        <video controls>\n",
              "            <source src=\"data:video/mp4;base64,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\" type=\"video/mp4\" />\n",
              "        </video>"
            ],
            "text/plain": [
              "<IPython.core.display.HTML object>"
            ]
          },
          "metadata": {
            "tags": []
          },
          "execution_count": 56
        }
      ]
    },
    {
      "cell_type": "markdown",
      "metadata": {
        "id": "CSbVNDpaVb3_",
        "colab_type": "text"
      },
      "source": [
        "How does the agent perform? Could you train it for shorter amounts of time and still perform well? Do you think that training longer would help even more? "
      ]
    },
    {
      "cell_type": "markdown",
      "metadata": {
        "id": "Eu6Mqxc720ST",
        "colab_type": "text"
      },
      "source": [
        "#Part 2: Pong\n",
        "\n",
        "In Cartpole, we dealt with an environment that was static -- in other words, it didn't change over time. What happens if our environment is dynamic and unpredictable? Well that's exactly the case in [Pong](https://en.wikipedia.org/wiki/Pong), since part of the environment is the opposing player. We don't know how our opponent will act or react to our actions, so the complexity of our problem increases. It also becomes much more interesting, since we can compete to beat our opponent. RL provides a powerful framework for training AI systems with the ability to handle and interact with dynamic, unpredictable environments. In this part of the lab, we'll use the tools and workflow we explored in Part 1 to build an RL agent capable of playing the game of Pong.\n"
      ]
    },
    {
      "cell_type": "markdown",
      "metadata": {
        "id": "srZ4YE29isuA",
        "colab_type": "text"
      },
      "source": [
        "## 3.6 Define and inspect the Pong environment\n",
        "\n",
        "As with Cartpole, we'll instantiate the Pong environment in the OpenAI gym, using a seed of 1."
      ]
    },
    {
      "cell_type": "code",
      "metadata": {
        "id": "lbYHLr66i15n",
        "colab_type": "code",
        "colab": {}
      },
      "source": [
        "env = gym.make(\"Pong-v0\", frameskip=5)\n",
        "env.seed(1); # for reproducibility"
      ],
      "execution_count": 0,
      "outputs": []
    },
    {
      "cell_type": "markdown",
      "metadata": {
        "id": "52uZ2Xhyi-MW",
        "colab_type": "text"
      },
      "source": [
        "Let's next consider the observation space for the Pong environment. Instead of four physical descriptors of the cart-pole setup, in the case of Pong our observations are the individual video frames (i.e., images) that depict the state of the board. Thus, the observations are 210x160 RGB images (arrays of shape (210,160,3)).\n",
        "\n",
        "We can again confirm the size of the observation space by query:"
      ]
    },
    {
      "cell_type": "code",
      "metadata": {
        "id": "0yX4GWvxjnHS",
        "colab_type": "code",
        "colab": {
          "base_uri": "https://localhost:8080/",
          "height": 34
        },
        "outputId": "62de16f2-04c2-40b9-a2a0-457b288145c8"
      },
      "source": [
        "print(\"Environment has observation space =\", env.observation_space)"
      ],
      "execution_count": 96,
      "outputs": [
        {
          "output_type": "stream",
          "text": [
            "Environment has observation space = Box(210, 160, 3)\n"
          ],
          "name": "stdout"
        }
      ]
    },
    {
      "cell_type": "markdown",
      "metadata": {
        "id": "uuEC2TdSjx9D",
        "colab_type": "text"
      },
      "source": [
        "In Pong, at every time step, the agent (which controls the paddle) has six actions to choose from: no-op (no operation), move right, move left, fire, fire right, and fire left. Let's confirm the size of the action space by querying the environment:"
      ]
    },
    {
      "cell_type": "code",
      "metadata": {
        "id": "Iuy9oPc1kag3",
        "colab_type": "code",
        "colab": {
          "base_uri": "https://localhost:8080/",
          "height": 34
        },
        "outputId": "a6e7ec58-7e6b-42ca-ee45-46bed8deb4f9"
      },
      "source": [
        "n_actions = env.action_space.n\n",
        "print(\"Number of possible actions that the agent can choose from =\", n_actions)"
      ],
      "execution_count": 97,
      "outputs": [
        {
          "output_type": "stream",
          "text": [
            "Number of possible actions that the agent can choose from = 6\n"
          ],
          "name": "stdout"
        }
      ]
    },
    {
      "cell_type": "markdown",
      "metadata": {
        "id": "9-fghDRigUE5",
        "colab_type": "text"
      },
      "source": [
        "## 3.7 Define the Pong agent\n",
        "\n",
        "As before, we'll use a neural network to define our agent. What network architecture do you think would be especially well suited to this game? Since our observations are now in the form of images, we'll add convolutional layers to the network to increase the learning capacity of our network."
      ]
    },
    {
      "cell_type": "code",
      "metadata": {
        "id": "IJiqbFYpgYRH",
        "colab_type": "code",
        "colab": {}
      },
      "source": [
        "### Define the Pong agent ###\n",
        "\n",
        "# Functionally define layers for convenience\n",
        "# All convolutional layers will have ReLu activation\n",
        "Conv2D = functools.partial(tf.keras.layers.Conv2D, padding='same', activation='relu')\n",
        "Flatten = tf.keras.layers.Flatten\n",
        "Dense = tf.keras.layers.Dense\n",
        "\n",
        "# Defines a CNN for the Pong agent\n",
        "def create_pong_model():\n",
        "  model = tf.keras.models.Sequential([\n",
        "    # Convolutional layers\n",
        "    # First, 16 7x7 filters with 4x4 stride\n",
        "    Conv2D(filters=16, kernel_size=7, strides=4),\n",
        "\n",
        "    # TODO: define convolutional layers with 32 5x5 filters and 2x2 stride\n",
        "    Conv2D(filters=25, kernel_size=5, strides=2),\n",
        "\n",
        "    # TODO: define convolutional layers with 48 3x3 filters and 2x2 stride\n",
        "    Conv2D(filters=48, kernel_size=3, strides=2),\n",
        "\n",
        "    Flatten(),\n",
        "    \n",
        "    # Fully connected layer and output\n",
        "    Dense(units=64, activation='relu'),\n",
        "    # TODO: define the output dimension of the last Dense layer. \n",
        "    # Pay attention to the space the agent needs to act in\n",
        "    Dense(units=n_actions)\n",
        "  \n",
        "  ])\n",
        "  return model\n",
        "\n",
        "pong_model = create_pong_model()"
      ],
      "execution_count": 0,
      "outputs": []
    },
    {
      "cell_type": "markdown",
      "metadata": {
        "id": "yaeZ067olFiJ",
        "colab_type": "text"
      },
      "source": [
        "Since we've already defined the action function, `choose_action(model, observation)`, we don't need to define it again. Instead, we'll be able to reuse it later on by passing in our new model we've just created, `pong_model`. This is awesome because our action function provides a modular and generalizable method for all sorts of RL agents!"
      ]
    },
    {
      "cell_type": "markdown",
      "metadata": {
        "id": "l0RvqOVkmc2r",
        "colab_type": "text"
      },
      "source": [
        "## 3.8 Pong-specific functions\n",
        "\n",
        "In Part 1 (Cartpole), we implemented some key functions and classes to build and train our RL agent -- `choose_action(model, observation)` and the `Memory` class, for example. However, in getting ready to apply these to a new game like Pong, we might need to make some slight modifications. \n",
        "\n",
        "Namely, we need to think about what happens when a game ends. In Pong, we know a game has ended if the reward is +1 (we won!) or -1 (we lost unfortunately). Otherwise, we expect the reward at a timestep to be zero -- the players (or agents) are just playing eachother. So, after a game ends, we will need to reset the reward to zero when a game ends. This will result in a modified reward function."
      ]
    },
    {
      "cell_type": "code",
      "metadata": {
        "id": "iEZG2o50luLu",
        "colab_type": "code",
        "colab": {}
      },
      "source": [
        "### Pong reward function ###\n",
        "\n",
        "# Compute normalized, discounted rewards for Pong (i.e., return)\n",
        "# Arguments:\n",
        "#   rewards: reward at timesteps in episode\n",
        "#   gamma: discounting factor. Note increase to 0.99 -- rate of depreciation will be slower.\n",
        "# Returns:\n",
        "#   normalized discounted reward\n",
        "def discount_rewards(rewards, gamma=0.99): \n",
        "  discounted_rewards = np.zeros_like(rewards)\n",
        "  R = 0\n",
        "  for t in reversed(range(0, len(rewards))):\n",
        "      # NEW: Reset the sum if the reward is not 0 (the game has ended!)\n",
        "      if rewards[t] != 0:\n",
        "        R = 0\n",
        "      # update the total discounted reward as before\n",
        "      R = R * gamma + rewards[t]\n",
        "      discounted_rewards[t] = R\n",
        "      \n",
        "  return normalize(discounted_rewards)"
      ],
      "execution_count": 0,
      "outputs": []
    },
    {
      "cell_type": "markdown",
      "metadata": {
        "id": "HopLpb4IoOqA",
        "colab_type": "text"
      },
      "source": [
        "Additionally, we have to consider the nature of the observations in the Pong environment, and how they will be fed into our network. Our observations in this case are images. Before we input an image into our network, we'll do a bit of pre-processing to crop and scale, clean up the background colors to a single color, and set the important game elements to a single color. Let's use this function to visualize what an observation might look like before and after pre-processing."
      ]
    },
    {
      "cell_type": "code",
      "metadata": {
        "id": "no5IIYtFm8pI",
        "colab_type": "code",
        "colab": {
          "base_uri": "https://localhost:8080/",
          "height": 227
        },
        "outputId": "b987ff12-2e12-488e-f415-82798026af28"
      },
      "source": [
        "observation = env.reset()\n",
        "for i in range(30):\n",
        "  observation, _,_,_ = env.step(0)\n",
        "observation_pp = mdl.lab3.preprocess_pong(observation)\n",
        "\n",
        "f = plt.figure(figsize=(10,3))\n",
        "ax = f.add_subplot(121)\n",
        "ax2 = f.add_subplot(122)\n",
        "ax.imshow(observation); ax.grid(False);\n",
        "ax2.imshow(np.squeeze(observation_pp)); ax2.grid(False); plt.title('Preprocessed Observation');"
      ],
      "execution_count": 100,
      "outputs": [
        {
          "output_type": "display_data",
          "data": {
            "image/png": "[encoded data removed]",
            "text/plain": [
              "<Figure size 720x216 with 2 Axes>"
            ]
          },
          "metadata": {
            "tags": []
          }
        }
      ]
    },
    {
      "cell_type": "markdown",
      "metadata": {
        "id": "bYwIWC-Cz8F2",
        "colab_type": "text"
      },
      "source": [
        "What do you notice? How might these changes be important for training our RL algorithm?"
      ]
    },
    {
      "cell_type": "markdown",
      "metadata": {
        "id": "mRqcaDQ1pm3x",
        "colab_type": "text"
      },
      "source": [
        "## 3.9 Training Pong\n",
        "\n",
        "We're now all set up to start training our RL algorithm and agent for the game of Pong! We've already defined our loss function with `compute_loss`, which employs policy gradient learning, as well as our backpropagation step with `train_step` which is beautiful! We will use these functions to execute training the Pong agent. Let's walk through the training block.\n",
        "\n",
        "In Pong, rather than feeding our network one image at a time, it can actually improve performance to input the difference between two consecutive observations, which really gives us information about the movement between frames -- how the game is changing. We'll first pre-process the raw observation, `x`, and then we'll compute the difference with the image frame we saw one timestep before. \n",
        "\n",
        "This observation change will be forward propagated through our Pong agent, the CNN network model, which will then predict the next action to take based on this observation. The raw reward will be computed, and the observation, action, and reward will be recorded into memory. This will continue until a training episode, i.e., a game, ends.\n",
        "\n",
        "Then, we will compute the discounted rewards, and use this information to execute a training step. Memory will be cleared, and we will do it all over again!\n",
        "\n",
        "Let's run the code block to train our Pong agent. Note that completing training will take quite a bit of time (estimated at least a couple of hours). We will again visualize the evolution of the total reward as a function of training to get a sense of how the agent is learning."
      ]
    },
    {
      "cell_type": "code",
      "metadata": {
        "id": "xCwyQQrPnkZG",
        "colab_type": "code",
        "colab": {
          "base_uri": "https://localhost:8080/",
          "height": 279
        },
        "outputId": "9608476a-ef4e-4a88-f97c-f0aa98a32d08"
      },
      "source": [
        "### Training Pong ###\n",
        "\n",
        "# Hyperparameters\n",
        "learning_rate=1e-4\n",
        "MAX_ITERS = 100 # increase the maximum number of episodes, since Pong is more complex!\n",
        "\n",
        "# Model and optimizer\n",
        "pong_model = create_pong_model()\n",
        "optimizer = tf.keras.optimizers.Adam(learning_rate)\n",
        "\n",
        "# plotting\n",
        "smoothed_reward = mdl.util.LossHistory(smoothing_factor=0.9)\n",
        "plotter = mdl.util.PeriodicPlotter(sec=5, xlabel='Iterations', ylabel='Rewards')\n",
        "memory = Memory()\n",
        "\n",
        "for i_episode in range(MAX_ITERS):\n",
        "\n",
        "  plotter.plot(smoothed_reward.get())\n",
        "\n",
        "  # Restart the environment\n",
        "  observation = env.reset()\n",
        "  previous_frame = mdl.lab3.preprocess_pong(observation)\n",
        "\n",
        "  while True:\n",
        "      # Pre-process image \n",
        "      current_frame = mdl.lab3.preprocess_pong(observation)\n",
        "      \n",
        "      '''TODO: determine the observation change\n",
        "      Hint: this is the difference between the past two frames'''\n",
        "      obs_change = current_frame - previous_frame\n",
        "      \n",
        "      '''TODO: choose an action for the pong model, using the frame difference, and evaluate'''\n",
        "      action = choose_action(pong_model,obs_change)\n",
        "      # Take the chosen action\n",
        "      next_observation, reward, done, info = env.step(action)\n",
        "\n",
        "      '''TODO: save the observed frame difference, the action that was taken, and the resulting reward!'''\n",
        "      memory.add_to_memory(obs_change, action, reward)\n",
        "      \n",
        "      # is the episode over? did you crash or do so well that you're done?\n",
        "      if done:\n",
        "          # determine total reward and keep a record of this\n",
        "          total_reward = sum(memory.rewards)\n",
        "          smoothed_reward.append( total_reward )\n",
        "\n",
        "          # begin training\n",
        "          train_step(pong_model, \n",
        "                     optimizer, \n",
        "                     observations = np.stack(memory.observations, 0), \n",
        "                     actions = np.array(memory.actions),\n",
        "                     discounted_rewards = discount_rewards(memory.rewards))\n",
        "          \n",
        "          memory.clear()\n",
        "          break\n",
        "\n",
        "      observation = next_observation\n",
        "      previous_frame = current_frame"
      ],
      "execution_count": 0,
      "outputs": [
        {
          "output_type": "display_data",
          "data": {
            "image/png": "[encoded data removed]",
            "text/plain": [
              "<Figure size 432x288 with 1 Axes>"
            ]
          },
          "metadata": {
            "tags": []
          }
        }
      ]
    },
    {
      "cell_type": "markdown",
      "metadata": {
        "id": "8LiEY5Y_ts-Z",
        "colab_type": "text"
      },
      "source": [
        "Finally we can put our trained agent to the test! It will play in a newly instantiated Pong environment against the \"computer\", a base AI system for Pong. Your agent plays as the green paddle. Let's watch the match instant replay!"
      ]
    },
    {
      "cell_type": "code",
      "metadata": {
        "id": "TvHXbkL0tR6M",
        "colab_type": "code",
        "colab": {}
      },
      "source": [
        "saved_pong = mdl.lab3.save_video_of_model(\n",
        "    pong_model, \"Pong-v0\", obs_diff=True, \n",
        "    pp_fn=mdl.lab3.preprocess_pong)\n",
        "mdl.lab3.play_video(saved_pong)"
      ],
      "execution_count": 0,
      "outputs": []
    },
    {
      "cell_type": "markdown",
      "metadata": {
        "id": "TIlwIgBP3Js6",
        "colab_type": "text"
      },
      "source": [
        "## 3.10 Conclusion\n",
        "\n",
        "That's it! Congratulations on training two RL agents and putting them to the test! We encourage you to consider the following:\n",
        "\n",
        "*   How does the agent perform?\n",
        "*   Could you train it for shorter amounts of time  and still perform well?\n",
        "*   Do you think that training longer would help even more? \n",
        "* How does the complexity of Pong relative to Cartpole alter the rate at which the agent learns and its performance? \n",
        "* What are some things you could change about the agent or the learning process to potentially improve performance?\n",
        "\n",
        "If you want to go further, try to optimize your model to achieve the best performance! **[Email us](mailto:introtodeeplearning-staff@mit.edu) a copy of your notebook with the Pong training executed AND a saved video of your Pong agent competing! We'll give out prizes to the best performers!**"
      ]
    },
    {
      "cell_type": "code",
      "metadata": {
        "id": "pSW88x4OjaUy",
        "colab_type": "code",
        "colab": {}
      },
      "source": [
        ""
      ],
      "execution_count": 0,
      "outputs": []
    }
  ]
}